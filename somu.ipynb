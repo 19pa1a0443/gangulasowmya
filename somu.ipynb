{
  "nbformat": 4,
  "nbformat_minor": 0,
  "metadata": {
    "colab": {
      "name": "somu.ipynb",
      "provenance": [],
      "authorship_tag": "ABX9TyPRpg74OTMopq5ldlXgjfDI",
      "include_colab_link": true
    },
    "kernelspec": {
      "name": "python3",
      "display_name": "Python 3"
    }
  },
  "cells": [
    {
      "cell_type": "markdown",
      "metadata": {
        "id": "view-in-github",
        "colab_type": "text"
      },
      "source": [
        "<a href=\"https://colab.research.google.com/github/19pa1a0443/gangulasowmya/blob/master/somu.ipynb\" target=\"_parent\"><img src=\"https://colab.research.google.com/assets/colab-badge.svg\" alt=\"Open In Colab\"/></a>"
      ]
    },
    {
      "cell_type": "code",
      "metadata": {
        "id": "5sJuB1bp-Box",
        "colab_type": "code",
        "colab": {
          "base_uri": "https://localhost:8080/",
          "height": 34
        },
        "outputId": "e564a526-f59e-41aa-9895-4085f02c4168"
      },
      "source": [
        "import numpy as np\n",
        "x=np.array([1,2,3,4,5])\n",
        "print(type(x))"
      ],
      "execution_count": 1,
      "outputs": [
        {
          "output_type": "stream",
          "text": [
            "<class 'numpy.ndarray'>\n"
          ],
          "name": "stdout"
        }
      ]
    },
    {
      "cell_type": "code",
      "metadata": {
        "id": "IUMwPunM-gLc",
        "colab_type": "code",
        "colab": {
          "base_uri": "https://localhost:8080/",
          "height": 51
        },
        "outputId": "3ad6e2cd-6cdb-4526-80d0-da1876c9f48f"
      },
      "source": [
        "b=np.linspace(start=1, stop=5, num=10, endpoint=True, retstep=False)\n",
        "In [45]: print(b)"
      ],
      "execution_count": 2,
      "outputs": [
        {
          "output_type": "stream",
          "text": [
            "[1.         1.44444444 1.88888889 2.33333333 2.77777778 3.22222222\n",
            " 3.66666667 4.11111111 4.55555556 5.        ]\n"
          ],
          "name": "stdout"
        }
      ]
    }
  ]
}